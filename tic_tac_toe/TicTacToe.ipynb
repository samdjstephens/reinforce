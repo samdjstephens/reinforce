{
 "cells": [
  {
   "cell_type": "code",
   "execution_count": 24,
   "metadata": {
    "collapsed": true
   },
   "outputs": [],
   "source": [
    "from reinforce.tic_tac_toe.environment import TestBed\n",
    "import pandas as pd\n",
    "import random\n",
    "%matplotlib inline"
   ]
  },
  {
   "cell_type": "code",
   "execution_count": 2,
   "metadata": {},
   "outputs": [
    {
     "name": "stdout",
     "output_type": "stream",
     "text": [
      "Episode: \n",
      "1 101 201 301 401 501 601 701 801 901 1001 1101 1201 1301 1401 1501 1601 1701 1801 1901 2001 2101 2201 2301 2401 2501 2601 2701 2801 2901 3001 3101 3201 3301 3401 3501 3601 3701 3801 3901 4001 4101 4201 4301 4401 4501 4601 4701 4801 4901 5001 5101 5201 5301 5401 5501 5601 5701 5801 5901 6001 6101 6201 6301 6401 6501 6601 6701 6801 6901 7001 7101 7201 7301 7401 7501 7601 7701 7801 7901 8001 8101 8201 8301 8401 8501 8601 8701 8801 8901 9001 9101 9201 9301 9401 9501 9601 9701 9801 9901 "
     ]
    }
   ],
   "source": [
    "test_bed = TestBed()\n",
    "test_bed.play_episodes(10000)"
   ]
  },
  {
   "cell_type": "code",
   "execution_count": 5,
   "metadata": {
    "collapsed": true
   },
   "outputs": [],
   "source": [
    "results = pd.DataFrame({'winners': test_bed.winners}).fillna(0)"
   ]
  },
  {
   "cell_type": "code",
   "execution_count": 6,
   "metadata": {
    "collapsed": true
   },
   "outputs": [],
   "source": [
    "mean_results = results.winners.rolling(50).mean()"
   ]
  },
  {
   "cell_type": "code",
   "execution_count": 7,
   "metadata": {},
   "outputs": [
    {
     "data": {
      "text/plain": [
       "<matplotlib.axes._subplots.AxesSubplot at 0x112f20588>"
      ]
     },
     "execution_count": 7,
     "metadata": {},
     "output_type": "execute_result"
    },
    {
     "data": {
      "image/png": "[encoded data removed]",
      "text/plain": [
       "<matplotlib.figure.Figure at 0x112471b38>"
      ]
     },
     "metadata": {},
     "output_type": "display_data"
    }
   ],
   "source": [
    "mean_results.plot()"
   ]
  },
  {
   "cell_type": "markdown",
   "metadata": {
    "collapsed": true
   },
   "source": [
    "## Action-Value analysis"
   ]
  },
  {
   "cell_type": "code",
   "execution_count": 3,
   "metadata": {
    "collapsed": true
   },
   "outputs": [],
   "source": [
    "top_qvals = sorted([(state,action,val) for state,avmap in test_bed.agent.q_values.items() for action,val in avmap.items()],\n",
    "                   key=lambda sav: sav[2])[-10:]"
   ]
  },
  {
   "cell_type": "code",
   "execution_count": 4,
   "metadata": {},
   "outputs": [
    {
     "name": "stdout",
     "output_type": "stream",
     "text": [
      "((-1, 0, 0, -1, 1, 0, 1, 0, -1), TTTAction(marker=1, position=Position(x=2, y=0)), 1.0)\n",
      "O |   |  \n",
      "-- --- --\n",
      "O | X |  \n",
      "-- --- --\n",
      "X |   | O\n",
      "\n"
     ]
    }
   ],
   "source": [
    "i = 4\n",
    "print(top_qvals[i])\n",
    "print(test_bed.env._repr_flat(top_qvals[i][0]))"
   ]
  },
  {
   "cell_type": "code",
   "execution_count": 8,
   "metadata": {
    "collapsed": true
   },
   "outputs": [],
   "source": [
    "bot_qvals = sorted([(state,action,val) for state,avmap in test_bed.agent.q_values.items() for action,val in avmap.items()],\n",
    "                   key=lambda sav: sav[2])[:10]"
   ]
  },
  {
   "cell_type": "code",
   "execution_count": 22,
   "metadata": {
    "collapsed": true
   },
   "outputs": [],
   "source": [
    "i=0"
   ]
  },
  {
   "cell_type": "code",
   "execution_count": 23,
   "metadata": {},
   "outputs": [
    {
     "name": "stdout",
     "output_type": "stream",
     "text": [
      "((0, -1, -1, -1, 0, 1, -1, 1, 1), TTTAction(marker=1, position=Position(x=1, y=1)), -0.999)\n",
      "  | O | O\n",
      "-- --- --\n",
      "O |   | X\n",
      "-- --- --\n",
      "O | X | X\n",
      "\n"
     ]
    }
   ],
   "source": [
    "i+=1\n",
    "print(bot_qvals[i])\n",
    "print(test_bed.env._repr_flat(bot_qvals[i][0]))"
   ]
  },
  {
   "cell_type": "code",
   "execution_count": 25,
   "metadata": {
    "collapsed": true
   },
   "outputs": [],
   "source": [
    "rand_qvals = random.sample([(state,action,val) for state,avmap in test_bed.agent.q_values.items() for action,val in avmap.items()], 10)"
   ]
  },
  {
   "cell_type": "code",
   "execution_count": 26,
   "metadata": {
    "collapsed": true
   },
   "outputs": [],
   "source": [
    "i=0"
   ]
  },
  {
   "cell_type": "code",
   "execution_count": 34,
   "metadata": {},
   "outputs": [
    {
     "name": "stdout",
     "output_type": "stream",
     "text": [
      "((1, -1, 0, 0, 0, 1, -1, -1, 0), TTTAction(marker=1, position=Position(x=2, y=2)), 0.8099919000000001)\n",
      "X | O |  \n",
      "-- --- --\n",
      "  |   | X\n",
      "-- --- --\n",
      "O | O |  \n",
      "\n"
     ]
    }
   ],
   "source": [
    "i+=1\n",
    "print(rand_qvals[i])\n",
    "print(test_bed.env._repr_flat(rand_qvals[i][0]))"
   ]
  }
 ],
 "metadata": {
  "kernelspec": {
   "display_name": "Python 3",
   "language": "python",
   "name": "python3"
  },
  "language_info": {
   "codemirror_mode": {
    "name": "ipython",
    "version": 3
   },
   "file_extension": ".py",
   "mimetype": "text/x-python",
   "name": "python",
   "nbconvert_exporter": "python",
   "pygments_lexer": "ipython3",
   "version": "3.6.1"
  }
 },
 "nbformat": 4,
 "nbformat_minor": 2
}
