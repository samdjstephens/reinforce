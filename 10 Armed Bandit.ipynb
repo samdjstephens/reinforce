{
 "cells": [
  {
   "cell_type": "code",
   "execution_count": 1,
   "metadata": {
    "collapsed": true
   },
   "outputs": [],
   "source": [
    "import numpy as np\n",
    "from matplotlib import pyplot as plt\n",
    "import random\n",
    "import time\n",
    "%matplotlib inline"
   ]
  },
  {
   "cell_type": "markdown",
   "metadata": {},
   "source": [
    "# 10-armed bandit\n",
    "\n",
    "The bandit:\n",
    "- Mean and variance for each arm. The means represent $Q^*(a)$\n",
    "- Ability to interact with the bandit - specifically simulate a play on one of its arms\n",
    "- Bandit represented as a 2D array - rows are arms, columns are (mean, variance)\n",
    "- Bandit array built by generating 10 means (from a guassian, mean 0 and variance 1), variances are 1\n",
    "\n",
    "The agent:\n",
    "- Maintains:\n",
    "  - list of estimates of $Q_t(a)$ (Estimated value of each action $a$)\n",
    "  - Current \"play\" number $k$\n",
    "- Determines action to take, given $Q_t(a)$ and $k$\n",
    "\n",
    "Running plays:\n",
    "- Ask agent for an agent\n",
    "- Get response from bandit for action\n",
    "- Give response to agent"
   ]
  },
  {
   "cell_type": "code",
   "execution_count": 2,
   "metadata": {
    "collapsed": true
   },
   "outputs": [],
   "source": [
    "class Bandit(object):\n",
    "    def __init__(self, mean_variances):\n",
    "        self.mean_variances = mean_variances\n",
    "    \n",
    "    def get_response(self, arm_index):\n",
    "        mean, variance = self.mean_variances[arm_index]\n",
    "        return np.random.normal(mean, variance)\n",
    "    \n",
    "    def optimal_action(self):\n",
    "        return np.argmax([mean_var[0] for mean_var in self.mean_variances])\n",
    "\n",
    "def make_bandit(n_bandits, mean_reward_mean=0, var_reward_mean=1, mean_reward_var=1, var_reward_var=0):\n",
    "    mean_vars =  [(np.random.normal(mean_reward_mean, var_reward_mean),\n",
    "                   np.random.normal(mean_reward_var, var_reward_var)) for _ in range(n_bandits)]\n",
    "    return Bandit(mean_vars)"
   ]
  },
  {
   "cell_type": "code",
   "execution_count": 54,
   "metadata": {
    "collapsed": true
   },
   "outputs": [],
   "source": [
    "class Agent(object):\n",
    "    def __init__(self, estimated_action_values, explore_chance=0):\n",
    "        self.estimated_action_values = estimated_action_values\n",
    "        self.action_counts = [0 for _ in range(len(self.estimated_action_values))]\n",
    "        self.explore_chance = explore_chance\n",
    "        self.rewards = []\n",
    "    \n",
    "    def get_action(self):\n",
    "        best = self.preferred_action()\n",
    "        if self.should_explore():\n",
    "            action = self.exploratory_action()\n",
    "        else:\n",
    "            action = best\n",
    "        self.action_counts[action] += 1\n",
    "        return action\n",
    "        \n",
    "    def preferred_action(self):\n",
    "        max_action_val = np.max(self.estimated_action_values)\n",
    "        return random.choice(np.argwhere(self.estimated_action_values == max_action_val))[0]\n",
    "    \n",
    "    def should_explore(self):\n",
    "        return np.random.random() < self.explore_chance\n",
    "    \n",
    "    def exploratory_action(self):\n",
    "        max_action_val = np.max(self.estimated_action_values)\n",
    "        less_max_action_val = np.argwhere(self.estimated_action_values != max_action_val)\n",
    "        if len(less_max_action_val):\n",
    "            return random.choice(less_max_action_val)[0]\n",
    "        else:\n",
    "            return random.choice(list(range(len(self.estimated_action_values))))\n",
    "    \n",
    "    def update(self, action, reward):\n",
    "        self.rewards.append(reward)\n",
    "        action_value = self.estimated_action_values[action]\n",
    "        action_times_used = self.action_counts[action]\n",
    "        new_action_value = action_value + (1 / action_times_used) * (reward - action_value)\n",
    "        self.estimated_action_values[action] = new_action_value\n",
    "        \n",
    "    def mean_reward(self):\n",
    "        return np.mean(self.rewards)\n",
    "    \n",
    "def make_agent(bandit_num_arms, initial_estimated_action_value, explore_chance) -> Agent:\n",
    "    return Agent([initial_estimated_action_value for _ in range(bandit_num_arms)], explore_chance)"
   ]
  },
  {
   "cell_type": "code",
   "execution_count": 55,
   "metadata": {
    "collapsed": true
   },
   "outputs": [],
   "source": [
    "def iter_plays(bandit, agent, num_plays=1000, print_=False):\n",
    "    for play_number in range(1, num_plays+1):\n",
    "        action = agent.get_action()\n",
    "        print_ and print(f\"Agent action values {agent.estimated_action_values}\")\n",
    "        print_ and print(f\"Agent chose {action}\")\n",
    "        response = bandit.get_response(action)\n",
    "        print_ and print(f\"Reward: {response}\")\n",
    "        print_ and print(\"\\n##################\\n\")\n",
    "        agent.update(action, response)\n",
    "        print_ and time.sleep(1)\n",
    "        yield bandit, agent"
   ]
  },
  {
   "cell_type": "code",
   "execution_count": 61,
   "metadata": {
    "scrolled": true
   },
   "outputs": [
    {
     "name": "stdout",
     "output_type": "stream",
     "text": [
      "0, 1, 2, 3, 4, 5, 6, 7, 8, 9, 10, 11, 12, 13, 14, 15, 16, 17, 18, 19, 20, 21, 22, 23, 24, 25, 26, 27, 28, 29, 30, 31, 32, 33, 34, 35, 36, 37, 38, 39, 40, 41, 42, 43, 44, 45, 46, 47, 48, 49, 50, 51, 52, 53, 54, 55, 56, 57, 58, 59, 60, 61, 62, 63, 64, 65, 66, 67, 68, 69, 70, 71, 72, 73, 74, 75, 76, 77, 78, 79, 80, 81, 82, 83, 84, 85, 86, 87, 88, 89, 90, 91, 92, 93, 94, 95, 96, 97, 98, 99, 100, 101, 102, 103, 104, 105, 106, 107, 108, 109, 110, 111, 112, 113, 114, 115, 116, 117, 118, 119, 120, 121, 122, 123, 124, 125, 126, 127, 128, 129, 130, 131, 132, 133, 134, 135, 136, 137, 138, 139, 140, 141, 142, 143, 144, 145, 146, 147, 148, 149, 150, 151, 152, 153, 154, 155, 156, 157, 158, 159, 160, 161, 162, 163, 164, 165, 166, 167, 168, 169, 170, 171, 172, 173, 174, 175, 176, 177, 178, 179, 180, 181, 182, 183, 184, 185, 186, 187, 188, 189, 190, 191, 192, 193, 194, 195, 196, 197, 198, 199, "
     ]
    }
   ],
   "source": [
    "all_on_optimal_actions = []\n",
    "all_mean_rewards = []\n",
    "N_ARMS = 10\n",
    "for _repeat in range(200):\n",
    "    bandit = make_bandit(N_ARMS)\n",
    "    agent = make_agent(N_ARMS, 0, 0.5)\n",
    "    print(_repeat, end=', ')\n",
    "    on_optimal_action = []\n",
    "    mean_rewards = []\n",
    "    for bandit, agent in iter_plays(bandit, agent):\n",
    "        on_optimal_action.append(int(bandit.optimal_action() == agent.preferred_action()))\n",
    "        mean_rewards.append(agent.mean_reward())\n",
    "    all_on_optimal_actions.append(on_optimal_action)\n",
    "    all_mean_rewards.append(mean_rewards)"
   ]
  },
  {
   "cell_type": "code",
   "execution_count": 62,
   "metadata": {
    "collapsed": true
   },
   "outputs": [],
   "source": [
    "all_mean_rewards_avg = np.array(all_mean_rewards).mean(axis=0)\n",
    "perc_optimal_actions = 100 * np.array(all_on_optimal_actions).mean(axis=0)"
   ]
  },
  {
   "cell_type": "code",
   "execution_count": 63,
   "metadata": {},
   "outputs": [
    {
     "data": {
      "image/png": "[encoded data removed]",
      "text/plain": [
       "<matplotlib.figure.Figure at 0x10cffb8d0>"
      ]
     },
     "metadata": {},
     "output_type": "display_data"
    }
   ],
   "source": [
    "plt.figure()\n",
    "plt.title(\"Mean reward\")\n",
    "plt.plot(all_mean_rewards_avg)\n",
    "plt.xlabel(\"Play\")\n",
    "plt.ylabel(\"Mean reward\")\n",
    "plt.ylim(-0.5,1.5)\n",
    "plt.show()"
   ]
  },
  {
   "cell_type": "code",
   "execution_count": 64,
   "metadata": {},
   "outputs": [
    {
     "data": {
      "image/png": "[encoded data removed]",
      "text/plain": [
       "<matplotlib.figure.Figure at 0x10cfbea20>"
      ]
     },
     "metadata": {},
     "output_type": "display_data"
    }
   ],
   "source": [
    "plt.figure(figsize=(9,9))\n",
    "plt.title(\"Percentage agents on optimal action\")\n",
    "plt.plot(perc_optimal_actions)\n",
    "plt.xlabel(\"Play\")\n",
    "plt.ylabel(\"% optimal action\")\n",
    "plt.ylim(0,100)\n",
    "plt.show()"
   ]
  },
  {
   "cell_type": "code",
   "execution_count": null,
   "metadata": {
    "collapsed": true
   },
   "outputs": [],
   "source": []
  }
 ],
 "metadata": {
  "kernelspec": {
   "display_name": "Python 3",
   "language": "python",
   "name": "python3"
  },
  "language_info": {
   "codemirror_mode": {
    "name": "ipython",
    "version": 3
   },
   "file_extension": ".py",
   "mimetype": "text/x-python",
   "name": "python",
   "nbconvert_exporter": "python",
   "pygments_lexer": "ipython3",
   "version": "3.6.1"
  }
 },
 "nbformat": 4,
 "nbformat_minor": 2
}
