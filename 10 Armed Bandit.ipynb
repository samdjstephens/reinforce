{
 "cells": [
  {
   "cell_type": "code",
   "execution_count": 1,
   "metadata": {},
   "outputs": [
    {
     "name": "stderr",
     "output_type": "stream",
     "text": [
      "/Users/samstephens/growthintel/repos/envs/reinforce/lib/python3.6/site-packages/matplotlib/font_manager.py:280: UserWarning: Matplotlib is building the font cache using fc-list. This may take a moment.\n",
      "  'Matplotlib is building the font cache using fc-list. '\n"
     ]
    }
   ],
   "source": [
    "import numpy as np\n",
    "from matplotlib import pyplot as plt\n",
    "%matplotlib inline"
   ]
  },
  {
   "cell_type": "markdown",
   "metadata": {},
   "source": [
    "# 10-armed bandit\n",
    "\n",
    "The bandit:\n",
    "- Mean and variance for each arm. The means represent $Q^*(a)$\n",
    "- Ability to interact with the bandit - specifically simulate a play on one of its arms\n",
    "- Bandit represented as a 2D array - rows are arms, columns are (mean, variance)\n",
    "- Bandit array built by generating 10 means (from a guassian, mean 0 and variance 1), variances are 1\n",
    "\n",
    "The agent:\n",
    "- Maintains:\n",
    "  - list of estimates of $Q_t(a)$ (Estimated value of each action $a$)\n",
    "  - Current \"play\" number $k$\n",
    "- Determines action to take, given $Q_t(a)$ and $k$"
   ]
  },
  {
   "cell_type": "code",
   "execution_count": null,
   "metadata": {
    "collapsed": true
   },
   "outputs": [],
   "source": []
  }
 ],
 "metadata": {
  "kernelspec": {
   "display_name": "Python 3",
   "language": "python",
   "name": "python3"
  },
  "language_info": {
   "codemirror_mode": {
    "name": "ipython",
    "version": 3
   },
   "file_extension": ".py",
   "mimetype": "text/x-python",
   "name": "python",
   "nbconvert_exporter": "python",
   "pygments_lexer": "ipython3",
   "version": "3.6.1"
  }
 },
 "nbformat": 4,
 "nbformat_minor": 2
}
