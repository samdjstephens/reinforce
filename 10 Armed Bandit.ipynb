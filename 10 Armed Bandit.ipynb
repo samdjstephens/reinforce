{
 "cells": [
  {
   "cell_type": "code",
   "execution_count": 19,
   "metadata": {},
   "outputs": [],
   "source": [
    "import numpy as np\n",
    "from matplotlib import pyplot as plt\n",
    "import time\n",
    "%matplotlib inline"
   ]
  },
  {
   "cell_type": "markdown",
   "metadata": {},
   "source": [
    "# 10-armed bandit\n",
    "\n",
    "The bandit:\n",
    "- Mean and variance for each arm. The means represent $Q^*(a)$\n",
    "- Ability to interact with the bandit - specifically simulate a play on one of its arms\n",
    "- Bandit represented as a 2D array - rows are arms, columns are (mean, variance)\n",
    "- Bandit array built by generating 10 means (from a guassian, mean 0 and variance 1), variances are 1\n",
    "\n",
    "The agent:\n",
    "- Maintains:\n",
    "  - list of estimates of $Q_t(a)$ (Estimated value of each action $a$)\n",
    "  - Current \"play\" number $k$\n",
    "- Determines action to take, given $Q_t(a)$ and $k$\n",
    "\n",
    "Running plays:\n",
    "- Ask agent for an agent\n",
    "- Get response from bandit for action\n",
    "- Give response to agent"
   ]
  },
  {
   "cell_type": "code",
   "execution_count": 26,
   "metadata": {},
   "outputs": [],
   "source": [
    "class Bandit(object):\n",
    "    def __init__(self, mean_variances):\n",
    "        self.mean_variances = mean_variances\n",
    "    \n",
    "    def get_response(self, arm_index):\n",
    "        mean, variance = self.mean_variances[arm_index]\n",
    "        return np.random.normal(mean, variance)\n",
    "\n",
    "def make_bandit(n_bandits, mean_reward_mean=0, var_reward_mean=1, mean_reward_var=1, var_reward_var=0):\n",
    "    mean_vars =  [(np.random.normal(mean_reward_mean, var_reward_mean),\n",
    "                   np.random.normal(mean_reward_var, var_reward_var)) for _ in range(n_bandits)]\n",
    "    return Bandit(mean_vars)"
   ]
  },
  {
   "cell_type": "code",
   "execution_count": 30,
   "metadata": {},
   "outputs": [],
   "source": [
    "class Agent(object):\n",
    "    def __init__(self, estimated_action_values, explore_chance=0):\n",
    "        self.estimated_action_values = estimated_action_values\n",
    "        self.explore_chance = explore_chance\n",
    "    \n",
    "    def get_action(self):\n",
    "        best = np.argmax(self.estimated_action_values)\n",
    "        if self.should_explore():\n",
    "            return self.exploratory_action(not_=best)\n",
    "        else:\n",
    "            return best\n",
    "    \n",
    "    def should_explore(self):\n",
    "        return np.random.random() < self.explore_chance\n",
    "    \n",
    "    def exploratory_action(self, not_=-1):\n",
    "        rand_action = np.random.randint(0, len(self.estimated_action_values))\n",
    "        if rand_action == not_:\n",
    "            return self.exploratory_action(not_)\n",
    "        else:\n",
    "            return rand_action\n",
    "    \n",
    "    def update(self, action, reward, play_number):\n",
    "        action_values = self.estimated_action_values.copy()\n",
    "        action_value = action_values[action]\n",
    "        new_action_value = action_value + (1 / play_number) * (reward - action_value)\n",
    "        action_values[action] = new_action_value\n",
    "        return Agent(action_values, self.explore_chance)\n",
    "    \n",
    "def make_agent(bandit_num_arms, initial_estimated_action_value, explore_chance) -> Agent:\n",
    "    return Agent([initial_estimated_action_value for _ in range(bandit_num_arms)], explore_chance)"
   ]
  },
  {
   "cell_type": "code",
   "execution_count": 37,
   "metadata": {},
   "outputs": [],
   "source": [
    "def play(bandit_arms, num_plays=1000, print_=False):\n",
    "    bandit = make_bandit(bandit_arms)\n",
    "    agent = make_agent(bandit_arms, 0, 0)\n",
    "    for play_number in range(1, num_plays+1):\n",
    "        action = agent.get_action()\n",
    "        print_ and print(f\"Agent chose {action}\")\n",
    "        response = bandit.get_response(action)\n",
    "        print_ and print(f\"Reward: {response}\")\n",
    "        print_ and print(\"\\n##################\\n\")\n",
    "        agent = agent.update(action, response, play_number)\n",
    "        print_ and time.sleep(1)"
   ]
  },
  {
   "cell_type": "code",
   "execution_count": 39,
   "metadata": {
    "scrolled": true
   },
   "outputs": [],
   "source": [
    "play(10)"
   ]
  },
  {
   "cell_type": "code",
   "execution_count": null,
   "metadata": {
    "collapsed": true
   },
   "outputs": [],
   "source": []
  }
 ],
 "metadata": {
  "kernelspec": {
   "display_name": "Python 3",
   "language": "python",
   "name": "python3"
  },
  "language_info": {
   "codemirror_mode": {
    "name": "ipython",
    "version": 3
   },
   "file_extension": ".py",
   "mimetype": "text/x-python",
   "name": "python",
   "nbconvert_exporter": "python",
   "pygments_lexer": "ipython3",
   "version": "3.6.1"
  }
 },
 "nbformat": 4,
 "nbformat_minor": 2
}
