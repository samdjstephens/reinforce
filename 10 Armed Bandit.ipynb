{
 "cells": [
  {
   "cell_type": "code",
   "execution_count": 19,
   "metadata": {},
   "outputs": [],
   "source": [
    "import numpy as np\n",
    "from matplotlib import pyplot as plt\n",
    "import time\n",
    "%matplotlib inline"
   ]
  },
  {
   "cell_type": "markdown",
   "metadata": {},
   "source": [
    "# 10-armed bandit\n",
    "\n",
    "The bandit:\n",
    "- Mean and variance for each arm. The means represent $Q^*(a)$\n",
    "- Ability to interact with the bandit - specifically simulate a play on one of its arms\n",
    "- Bandit represented as a 2D array - rows are arms, columns are (mean, variance)\n",
    "- Bandit array built by generating 10 means (from a guassian, mean 0 and variance 1), variances are 1\n",
    "\n",
    "The agent:\n",
    "- Maintains:\n",
    "  - list of estimates of $Q_t(a)$ (Estimated value of each action $a$)\n",
    "  - Current \"play\" number $k$\n",
    "- Determines action to take, given $Q_t(a)$ and $k$\n",
    "\n",
    "Running plays:\n",
    "- Ask agent for an agent\n",
    "- Get response from bandit for action\n",
    "- Give response to agent"
   ]
  },
  {
   "cell_type": "code",
   "execution_count": 52,
   "metadata": {},
   "outputs": [],
   "source": [
    "class Bandit(object):\n",
    "    def __init__(self, mean_variances):\n",
    "        self.mean_variances = mean_variances\n",
    "    \n",
    "    def get_response(self, arm_index):\n",
    "        mean, variance = self.mean_variances[arm_index]\n",
    "        return np.random.normal(mean, variance)\n",
    "    \n",
    "    def optimal_action(self):\n",
    "        return np.argmax([mean_var[0] for mean_var in self.mean_variances])\n",
    "\n",
    "def make_bandit(n_bandits, mean_reward_mean=0, var_reward_mean=1, mean_reward_var=1, var_reward_var=0):\n",
    "    mean_vars =  [(np.random.normal(mean_reward_mean, var_reward_mean),\n",
    "                   np.random.normal(mean_reward_var, var_reward_var)) for _ in range(n_bandits)]\n",
    "    return Bandit(mean_vars)"
   ]
  },
  {
   "cell_type": "code",
   "execution_count": 59,
   "metadata": {},
   "outputs": [],
   "source": [
    "class Agent(object):\n",
    "    def __init__(self, estimated_action_values, explore_chance=0):\n",
    "        self.estimated_action_values = estimated_action_values\n",
    "        self.explore_chance = explore_chance\n",
    "        self.rewards = []\n",
    "    \n",
    "    def get_action(self):\n",
    "        best = self.preferred_action()\n",
    "        if self.should_explore():\n",
    "            return self.exploratory_action(not_=best)\n",
    "        else:\n",
    "            return best\n",
    "        \n",
    "    def preferred_action(self):\n",
    "        return np.argmax(self.estimated_action_values)\n",
    "    \n",
    "    def should_explore(self):\n",
    "        return np.random.random() < self.explore_chance\n",
    "    \n",
    "    def exploratory_action(self, not_=-1):\n",
    "        rand_action = np.random.randint(0, len(self.estimated_action_values))\n",
    "        if rand_action == not_:\n",
    "            return self.exploratory_action(not_)\n",
    "        else:\n",
    "            return rand_action\n",
    "    \n",
    "    def update(self, action, reward, play_number):\n",
    "        self.rewards.append(reward)\n",
    "        action_value = self.estimated_action_values[action]\n",
    "        new_action_value = action_value + (1 / play_number) * (reward - action_value)\n",
    "        self.estimated_action_values[action] = new_action_value\n",
    "        \n",
    "    def mean_reward(self):\n",
    "        return np.mean(self.rewards)\n",
    "    \n",
    "def make_agent(bandit_num_arms, initial_estimated_action_value, explore_chance) -> Agent:\n",
    "    return Agent([initial_estimated_action_value for _ in range(bandit_num_arms)], explore_chance)"
   ]
  },
  {
   "cell_type": "code",
   "execution_count": 82,
   "metadata": {},
   "outputs": [],
   "source": [
    "def iter_plays(bandit, agent, num_plays=1000, print_=False):\n",
    "    for play_number in range(1, num_plays+1):\n",
    "        action = agent.get_action()\n",
    "        print_ and print(f\"Agent action values {agent.estimated_action_values}\")\n",
    "        print_ and print(f\"Agent chose {action}\")\n",
    "        response = bandit.get_response(action)\n",
    "        print_ and print(f\"Reward: {response}\")\n",
    "        print_ and print(\"\\n##################\\n\")\n",
    "        agent.update(action, response, play_number)\n",
    "        print_ and time.sleep(1)\n",
    "        yield bandit, agent"
   ]
  },
  {
   "cell_type": "code",
   "execution_count": 88,
   "metadata": {
    "scrolled": true
   },
   "outputs": [
    {
     "name": "stdout",
     "output_type": "stream",
     "text": [
      "0, 1, 2, 3, 4, 5, 6, 7, 8, 9, 10, 11, 12, 13, 14, 15, 16, 17, 18, 19, 20, 21, 22, 23, 24, 25, 26, 27, 28, 29, 30, 31, 32, 33, 34, 35, 36, 37, 38, 39, 40, 41, 42, 43, 44, 45, 46, 47, 48, 49, "
     ]
    }
   ],
   "source": [
    "bandit, agent = make_bandit(10), make_agent(10, 0, 0.1)\n",
    "\n",
    "all_on_optimal_actions = []\n",
    "all_mean_rewards = []\n",
    "for _repeat in range(50):\n",
    "    print(_repeat, end=', ')\n",
    "    on_optimal_action = []\n",
    "    mean_rewards = []\n",
    "    for bandit, agent in iter_plays(bandit, agent):\n",
    "        on_optimal_action.append(int(bandit.optimal_action() == agent.preferred_action()))\n",
    "        mean_rewards.append(agent.mean_reward())\n",
    "    all_on_optimal_actions.append(on_optimal_action)\n",
    "    all_mean_rewards.append(mean_rewards)"
   ]
  },
  {
   "cell_type": "code",
   "execution_count": 89,
   "metadata": {
    "collapsed": true
   },
   "outputs": [],
   "source": [
    "all_mean_rewards = np.array(all_mean_rewards)\n",
    "all_on_optimal_actions = np.array(all_on_optimal_actions)"
   ]
  },
  {
   "cell_type": "code",
   "execution_count": 90,
   "metadata": {},
   "outputs": [],
   "source": [
    "all_mean_rewards_avg = all_mean_rewards.mean(axis=0)\n",
    "perc_optimal_actions = 100 * all_on_optimal_actions.mean(axis=0)"
   ]
  },
  {
   "cell_type": "code",
   "execution_count": 96,
   "metadata": {},
   "outputs": [
    {
     "data": {
      "text/plain": [
       "array([[ 2.86007848,  2.05631043,  1.34062452,  1.11248447,  1.15959377,\n",
       "         1.30855559,  1.41557077,  1.14528938,  1.16494117,  0.99939351],\n",
       "       [ 1.00016908,  0.99872877,  0.99916657,  0.99886093,  0.9987858 ,\n",
       "         0.99894035,  1.00089269,  1.00166971,  1.00230388,  1.00408284],\n",
       "       [ 1.04026022,  1.03968227,  1.03986265,  1.04026201,  1.04062931,\n",
       "         1.04030139,  1.0406275 ,  1.04199841,  1.04152889,  1.04224188],\n",
       "       [ 1.05952844,  1.05988429,  1.06010341,  1.05958311,  1.06013388,\n",
       "         1.06103757,  1.06094619,  1.06132569,  1.06151515,  1.06072303],\n",
       "       [ 1.06452114,  1.06442213,  1.06408711,  1.06404381,  1.06413679,\n",
       "         1.06432902,  1.06387829,  1.06414931,  1.06452403,  1.06381407]])"
      ]
     },
     "execution_count": 96,
     "metadata": {},
     "output_type": "execute_result"
    }
   ],
   "source": [
    "all_mean_rewards[:5,:10]"
   ]
  },
  {
   "cell_type": "code",
   "execution_count": 94,
   "metadata": {},
   "outputs": [
    {
     "data": {
      "image/png": "[encoded data removed]",
      "text/plain": [
       "<matplotlib.figure.Figure at 0x1070bac88>"
      ]
     },
     "metadata": {},
     "output_type": "display_data"
    }
   ],
   "source": [
    "plt.figure()\n",
    "plt.title(\"Mean reward\")\n",
    "plt.plot(all_mean_rewards_avg)\n",
    "plt.fill_between(all_mean_rewards_avg - all_mean_rewards_avg.std(axis=0),\n",
    "                 all_mean_rewards_avg + all_mean_rewards_avg.std(axis=0))\n",
    "plt.xlabel(\"Play\")\n",
    "plt.ylabel(\"Mean reward\")\n",
    "plt.ylim(0,1.5)\n",
    "plt.show()"
   ]
  },
  {
   "cell_type": "code",
   "execution_count": 93,
   "metadata": {},
   "outputs": [
    {
     "data": {
      "image/png": "[encoded data removed]",
      "text/plain": [
       "<matplotlib.figure.Figure at 0x105f31c88>"
      ]
     },
     "metadata": {},
     "output_type": "display_data"
    }
   ],
   "source": [
    "plt.figure(figsize=(9,9))\n",
    "plt.title(\"Percentage agents on optimal action\")\n",
    "plt.plot(perc_optimal_actions)\n",
    "plt.xlabel(\"Play\")\n",
    "plt.ylabel(\"% optimal action\")\n",
    "plt.ylim(0,100)\n",
    "plt.show()"
   ]
  },
  {
   "cell_type": "code",
   "execution_count": null,
   "metadata": {
    "collapsed": true
   },
   "outputs": [],
   "source": []
  }
 ],
 "metadata": {
  "kernelspec": {
   "display_name": "Python 3",
   "language": "python",
   "name": "python3"
  },
  "language_info": {
   "codemirror_mode": {
    "name": "ipython",
    "version": 3
   },
   "file_extension": ".py",
   "mimetype": "text/x-python",
   "name": "python",
   "nbconvert_exporter": "python",
   "pygments_lexer": "ipython3",
   "version": "3.6.1"
  }
 },
 "nbformat": 4,
 "nbformat_minor": 2
}
